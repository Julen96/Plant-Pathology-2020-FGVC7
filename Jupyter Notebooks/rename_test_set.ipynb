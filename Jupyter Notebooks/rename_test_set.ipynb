{
 "cells": [
  {
   "cell_type": "code",
   "execution_count": 1,
   "metadata": {},
   "outputs": [],
   "source": [
    "import numpy as np\n",
    "import pandas as pd\n",
    "import cv2\n",
    "from matplotlib import pyplot as plt"
   ]
  },
  {
   "cell_type": "code",
   "execution_count": 2,
   "metadata": {},
   "outputs": [],
   "source": [
    "def load_images(train, directory):\n",
    "    \n",
    "    # This function loads the images, resizes them and puts them into an array\n",
    "    \n",
    "    img_size = 720\n",
    "    train_image = []\n",
    "    counter = 0\n",
    "    for name in train['image_id']:\n",
    "        counter += 1\n",
    "        if (counter % 100 == 0):\n",
    "            print('we have loaded', counter , 'images')\n",
    "        path = directory + 'images/' + name + '.jpg'\n",
    "        img = cv2.imread(path)\n",
    "        image = cv2.resize(img, (img_size, img_size))\n",
    "        train_image.append(image)\n",
    "    train_image_array = np.array(train_image)\n",
    "    \n",
    "    return train_image_array"
   ]
  },
  {
   "cell_type": "code",
   "execution_count": 3,
   "metadata": {},
   "outputs": [],
   "source": [
    "def write_images(train_img):\n",
    "    \n",
    "    for i in range(0, len(train_img)):\n",
    "        \n",
    "        if i < 10:\n",
    "            additional = '000'\n",
    "        elif i<100:\n",
    "            additional = '00'\n",
    "        elif i<1000:\n",
    "            additional = '0'\n",
    "        else:\n",
    "            additional = ''\n",
    "            \n",
    "        img_name = 'Test_' + additional + str(i) + '.jpg'\n",
    "        cv2.imwrite(directory + 'image_generator/test/' + img_name, train_img[i])"
   ]
  },
  {
   "cell_type": "code",
   "execution_count": 4,
   "metadata": {},
   "outputs": [
    {
     "name": "stdout",
     "output_type": "stream",
     "text": [
      "we have loaded 100 images\n",
      "we have loaded 200 images\n",
      "we have loaded 300 images\n",
      "we have loaded 400 images\n",
      "we have loaded 500 images\n",
      "we have loaded 600 images\n",
      "we have loaded 700 images\n",
      "we have loaded 800 images\n",
      "we have loaded 900 images\n",
      "we have loaded 1000 images\n",
      "we have loaded 1100 images\n",
      "we have loaded 1200 images\n",
      "we have loaded 1300 images\n",
      "we have loaded 1400 images\n",
      "we have loaded 1500 images\n",
      "we have loaded 1600 images\n",
      "we have loaded 1700 images\n",
      "we have loaded 1800 images\n"
     ]
    }
   ],
   "source": [
    "directory = 'C:/Users/julen/OneDrive/Escritorio/IA/CS577-Deep-Learning/Project/'\n",
    "df_test = pd.read_csv(directory + 'Data/test.csv')\n",
    "test_img = load_images(df_test, directory)\n",
    "write_images(test_img)"
   ]
  },
  {
   "cell_type": "code",
   "execution_count": 11,
   "metadata": {},
   "outputs": [],
   "source": [
    "for i in range(0, len(df_test)):\n",
    "    \n",
    "    if i < 10:\n",
    "            additional = '000'\n",
    "    elif i<100:\n",
    "        additional = '00'\n",
    "    elif i<1000:\n",
    "        additional = '0'\n",
    "    else:\n",
    "        additional = ''\n",
    "    \n",
    "    df_test['image_id'].iloc[i] = 'Test_' + additional + str(i)"
   ]
  },
  {
   "cell_type": "code",
   "execution_count": 13,
   "metadata": {},
   "outputs": [],
   "source": [
    "df_test.to_csv('test_gen.csv')"
   ]
  },
  {
   "cell_type": "code",
   "execution_count": null,
   "metadata": {},
   "outputs": [],
   "source": []
  },
  {
   "cell_type": "code",
   "execution_count": null,
   "metadata": {},
   "outputs": [],
   "source": []
  },
  {
   "cell_type": "code",
   "execution_count": null,
   "metadata": {},
   "outputs": [],
   "source": []
  }
 ],
 "metadata": {
  "kernelspec": {
   "display_name": "Python 3",
   "language": "python",
   "name": "python3"
  },
  "language_info": {
   "codemirror_mode": {
    "name": "ipython",
    "version": 3
   },
   "file_extension": ".py",
   "mimetype": "text/x-python",
   "name": "python",
   "nbconvert_exporter": "python",
   "pygments_lexer": "ipython3",
   "version": "3.7.4"
  }
 },
 "nbformat": 4,
 "nbformat_minor": 4
}
